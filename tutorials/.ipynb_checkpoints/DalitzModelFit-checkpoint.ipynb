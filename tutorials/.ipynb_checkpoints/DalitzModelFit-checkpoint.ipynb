{
 "cells": [
  {
   "cell_type": "code",
   "execution_count": 1,
   "metadata": {
    "collapsed": false,
    "deletable": true,
    "editable": true
   },
   "outputs": [
    {
     "data": {
      "application/javascript": [
       "\n",
       "require(['notebook'],\n",
       "  function() {\n",
       "    IPython.CodeCell.config_defaults.highlight_modes['magic_text/x-c++src'] = {'reg':[/^%%cpp/]};\n",
       "    console.log(\"JupyROOT - %%cpp magic configured\");\n",
       "  }\n",
       ");\n"
      ]
     },
     "metadata": {},
     "output_type": "display_data"
    },
    {
     "name": "stdout",
     "output_type": "stream",
     "text": [
      "Welcome to JupyROOT 6.07/07\n"
     ]
    }
   ],
   "source": [
    "import sys\n",
    "sys.path.append(\"../lib/\")\n",
    "\n",
    "import numpy as np\n",
    "\n",
    "from DalitzModel import *\n",
    "from DalitzModelFitter import *"
   ]
  },
  {
   "cell_type": "markdown",
   "metadata": {},
   "source": [
    "## Build a decay model for $D^0\\to K_S^0\\pi^+\\pi^-$"
   ]
  },
  {
   "cell_type": "code",
   "execution_count": 2,
   "metadata": {
    "collapsed": true,
    "deletable": true,
    "editable": true
   },
   "outputs": [],
   "source": [
    "model = DalitzModel(.475, .135, .135, 1.865)\n",
    "model.add_bw('rho(770)', .770, .1490, 1, 'BC')\n",
    "model.add_bw('K*', .89166, 0.0508, 1, 'AB', 0.638*np.exp(1j*np.radians(133.2)))"
   ]
  },
  {
   "cell_type": "markdown",
   "metadata": {},
   "source": [
    "## Generate a sample with the model"
   ]
  },
  {
   "cell_type": "code",
   "execution_count": 3,
   "metadata": {
    "collapsed": false,
    "deletable": true,
    "editable": true
   },
   "outputs": [],
   "source": [
    "data = model.sample(10**4, 'AB', 'BC', silent=True)"
   ]
  },
  {
   "cell_type": "markdown",
   "metadata": {},
   "source": [
    "## Define a set of parameters to be optimized"
   ]
  },
  {
   "cell_type": "code",
   "execution_count": 4,
   "metadata": {
    "collapsed": false,
    "deletable": true,
    "editable": true
   },
   "outputs": [],
   "source": [
    "params = {\n",
    "    'K*' : {\n",
    "        'ampl' : [.6, .1, .4, 1.0],\n",
    "        'phase' : [2.325, .1, -np.pi, np.pi],\n",
    "        'mass' : [.9, .1, .7, 1.1],\n",
    "        'width' : [.05, .01, .04, .06]\n",
    "    },\n",
    "    'rho(770)' : {\n",
    "        'mass' : [.8, .1, .5, 1.0],\n",
    "        'width' : [.150, 0.05, .1, .2]\n",
    "    }\n",
    "}"
   ]
  },
  {
   "cell_type": "markdown",
   "metadata": {},
   "source": [
    "## Run max likelihood optimization"
   ]
  },
  {
   "cell_type": "code",
   "execution_count": 5,
   "metadata": {
    "collapsed": false,
    "deletable": true,
    "editable": true
   },
   "outputs": [
    {
     "ename": "TypeError",
     "evalue": "__init__() should return None, not 'dict'",
     "output_type": "error",
     "traceback": [
      "\u001b[0;31m\u001b[0m",
      "\u001b[0;31mTypeError\u001b[0mTraceback (most recent call last)",
      "\u001b[0;32m<ipython-input-5-e5a41c96a8dc>\u001b[0m in \u001b[0;36m<module>\u001b[0;34m()\u001b[0m\n\u001b[0;32m----> 1\u001b[0;31m \u001b[0mMLFit\u001b[0m\u001b[0;34m(\u001b[0m\u001b[0mmodel\u001b[0m\u001b[0;34m,\u001b[0m \u001b[0mparams\u001b[0m\u001b[0;34m,\u001b[0m \u001b[0mdata\u001b[0m\u001b[0;34m)\u001b[0m\u001b[0;34m\u001b[0m\u001b[0m\n\u001b[0m",
      "\u001b[0;31mTypeError\u001b[0m: __init__() should return None, not 'dict'"
     ]
    },
    {
     "name": "stdout",
     "output_type": "stream",
     "text": [
      " PARAMETER DEFINITIONS:\n",
      "    NO.   NAME         VALUE      STEP SIZE      LIMITS\n",
      "     1 rho(770)_width   1.50000e-01  5.00000e-02    1.00000e-01  2.00000e-01\n",
      " MINUIT WARNING IN PARAMETR\n",
      " ============== VARIABLE1 IS AT ITS UPPER ALLOWED LIMIT.\n",
      " MINUIT WARNING IN PARAMETR\n",
      " ============== VARIABLE1 BROUGHT BACK INSIDE LIMITS.\n",
      "     2 rho(770)_mass   8.00000e-01  1.00000e-01    5.00000e-01  1.00000e+00\n",
      "     3 K*_phase     2.32500e+00  1.00000e-01   -3.14159e+00  3.14159e+00\n",
      "     4 K*_width     5.00000e-02  1.00000e-02    4.00000e-02  6.00000e-02\n",
      " MINUIT WARNING IN PARAMETR\n",
      " ============== VARIABLE4 BROUGHT BACK INSIDE LIMITS.\n",
      " MINUIT WARNING IN PARAMETR\n",
      " ============== VARIABLE4 IS AT ITS LOWER ALLOWED LIMIT.\n",
      "     5 K*_mass      9.00000e-01  1.00000e-01    7.00000e-01  1.10000e+00\n",
      "     6 K*_ampl      6.00000e-01  1.00000e-01    4.00000e-01  1.00000e+00\n",
      " **********\n",
      " **    1 **SET PRING           0           0\n",
      " **********\n",
      " **********\n",
      " **    2 **MIGRAD        5000        0.01\n",
      " **********\n",
      "area 3.29534328195\n",
      "llh 6008.96177354, norm 33.9410783481\n",
      "llh 3779.07585482, norm 29.8323077826\n",
      "llh 2750.06271094, norm 29.3541293814\n",
      "llh 3825.12919173, norm 30.3765253168\n",
      "llh 3366.5126685, norm 29.7928966888\n",
      "llh 3538.73371524, norm 29.9922226514\n",
      "llh 3461.53365374, norm 29.8872262187\n",
      "llh 3902.65318695, norm 29.8752466679\n",
      "llh 2736.99284763, norm 29.4351422858\n",
      "llh 3757.88521746, norm 30.2619113221\n",
      "llh 3391.44108866, norm 29.8421068025\n",
      "llh 3511.43390826, norm 29.9500783885\n",
      "llh 3471.10219109, norm 29.9027553744\n",
      "llh 3422.60148468, norm 29.816491239\n",
      "llh 3377.82910309, norm 29.7644190046\n",
      "llh 3424.55216729, norm 29.8260153183\n",
      "llh 3453.22826795, norm 29.8702761302\n",
      "llh 3454.78303819, norm 29.8717925319\n",
      "llh 3415.44035536, norm 29.8132347354\n",
      "llh 3552.96683178, norm 29.8813672896\n",
      "llh 3269.52098065, norm 29.7334245529\n",
      "llh 3567.76970399, norm 30.0272686179\n",
      "llh 3444.2356037, norm 29.8698763798\n",
      "llh 3468.89109976, norm 29.8915680362\n",
      "llh 3428.27540937, norm 29.8336746876\n",
      "llh 3654.00221781, norm 29.9315344633\n",
      "llh 3284.33616186, norm 29.7603399496\n",
      "llh 3440.70233908, norm 29.8321207012\n",
      "llh 3433.77774496, norm 29.8577979579\n",
      "llh 3431.2608835, norm 29.8349464529\n",
      "llh 3426.12942732, norm 29.8308922451\n",
      "llh 3363.36771516, norm 29.8520200915\n",
      "llh 3632.85577273, norm 30.0215588354\n",
      "llh 3361.08765641, norm 29.743865105\n",
      "llh 3393.10650103, norm 29.7682595467\n",
      "llh 3484.24597858, norm 29.9170723248\n",
      "llh 3483.62624866, norm 29.9138085709\n",
      "llh 3455.28401211, norm 29.877888455\n",
      "llh 3417.92003198, norm 29.8431965161\n",
      "llh 3449.74218809, norm 29.8802096776\n",
      "llh 3334.3878178, norm 29.7713867178\n",
      "llh 3486.80479966, norm 30.007429084\n",
      "llh 3440.14296437, norm 29.9286982348\n",
      "llh 3457.54361989, norm 29.9558080418\n",
      "llh 3457.73925503, norm 29.9555183099\n",
      "llh 3406.00892533, norm 29.878243664\n",
      "llh 3445.49878729, norm 29.9372380912\n",
      "llh 3434.19868631, norm 29.920338761\n",
      "llh 3447.36990763, norm 29.9393920236\n",
      "llh 3512.26379726, norm 30.0380027981\n",
      "llh 3388.27028822, norm 29.8516376162\n",
      "llh 3439.1259511, norm 29.92777085\n",
      "llh 3497.8521144, norm 30.0157052183\n",
      "llh 3430.15367484, norm 29.9142891942\n",
      "llh 3424.50796164, norm 29.90583216\n",
      "llh 3485.08540414, norm 29.9965651347\n",
      "llh 3463.70565609, norm 29.9645073404\n",
      "llh 3497.83480665, norm 30.0156874122\n",
      "llh 3427.03931522, norm 29.9094871709\n",
      "llh 3484.09252877, norm 29.9952067434\n",
      "llh 3413.40307391, norm 29.8892252968\n",
      "llh 3456.65401425, norm 29.9539596687\n",
      "llh 3490.30550685, norm 30.0043866732\n",
      "llh 3419.46909526, norm 29.8983072444\n",
      "llh 3446.76631853, norm 29.9389597243\n",
      "llh 3425.40546061, norm 29.9073622572\n",
      "llh 3415.38747053, norm 29.8921867381\n",
      "llh 3514.85606484, norm 30.0412600509\n",
      "llh 3452.94210214, norm 29.9483852653\n",
      "llh 3456.83907273, norm 29.954224854\n",
      "llh 3464.92892847, norm 29.9664587168\n",
      "llh 3498.04893078, norm 30.0158899895\n",
      "llh 3423.23133392, norm 29.9039422965\n",
      "llh 3508.60223723, norm 30.0318380027\n",
      "llh 3477.02811762, norm 29.9844770408\n",
      "llh 3461.52383838, norm 29.9612389189\n",
      "llh 3527.01433226, norm 30.059510969\n",
      "llh 3403.15175457, norm 29.8739227741\n",
      "llh 3423.86824425, norm 29.9048776579\n",
      "llh 3477.85361789, norm 29.985718606\n",
      "llh 3420.42765452, norm 29.8997381695\n",
      "llh 3495.82586592, norm 30.0126716477\n",
      "llh 3428.32044666, norm 29.9115407314\n",
      "llh 3409.69157168, norm 29.8836929567\n",
      "llh 3397.19358483, norm 29.8650243667\n",
      "llh 3452.41724475, norm 29.9476011922\n",
      "llh 3400.42449505, norm 29.8698428472\n",
      "llh 3471.06456348, norm 29.975542829\n",
      "llh 3347.0807372, norm 29.7902831082\n",
      "llh 3427.29583236, norm 29.9100123796\n",
      "llh 3497.60420463, norm 30.0153380708\n",
      "llh 3415.38333245, norm 29.8922002458\n",
      "llh 3451.26142431, norm 29.9458691234\n",
      "llh 3402.98021184, norm 29.8736679176\n",
      "llh 3421.18668759, norm 29.9008733772\n",
      "llh 3505.96336826, norm 30.0278877368\n",
      "llh 3440.48308929, norm 29.9297364883\n",
      "llh 3444.1641525, norm 29.9352457181\n",
      "llh 3410.17474082, norm 29.8844148192\n",
      "llh 3527.64831101, norm 30.0604627915\n",
      "llh 3466.49013885, norm 29.9686810403\n",
      "llh 3392.77806262, norm 29.8584316488\n",
      "llh 3457.87789597, norm 29.9557771302\n",
      "llh 3459.01786968, norm 29.9574882404\n",
      "llh 3483.82757944, norm 29.9946710934\n",
      "llh 3472.13288049, norm 29.977137732\n",
      "llh 3525.51241272, norm 30.0572526305\n",
      "llh 3426.0125808, norm 29.9080894485\n",
      "llh 3564.68412828, norm 30.1161800474\n",
      "llh 3446.31930387, norm 29.9384716136\n",
      "llh 3445.02108041, norm 29.9365283326\n",
      "llh 3443.22645898, norm 29.9338422169\n",
      "llh 3472.18655351, norm 29.9772193309\n",
      "llh 3438.59867946, norm 29.9269152864\n",
      "llh 3456.14593026, norm 29.9531849152\n",
      "llh 3402.05326218, norm 29.8722820242\n",
      "llh 3524.29010478, norm 30.0554157454\n",
      "llh 3426.86700506, norm 29.9093671661\n",
      "llh 3445.80061137, norm 29.9376932199\n",
      "llh 3433.96870818, norm 29.9199913775\n",
      "llh 3482.09857737, norm 29.9920779929\n",
      "llh 3372.09308506, norm 29.8275669529\n",
      "llh 3433.66035851, norm 29.9195273208\n",
      "llh 3453.88524962, norm 29.9498002093\n",
      "llh 3475.59306119, norm 29.9823241114\n",
      "llh 3448.45598272, norm 29.9416703895\n",
      "llh 3452.66216336, norm 29.9479678928\n",
      "llh 3461.03832089, norm 29.9605129644\n",
      "llh 3405.83435947, norm 29.8779300394\n",
      "llh 3460.38999446, norm 29.9595417706\n",
      "llh 3420.90605053, norm 29.9004540718\n",
      "llh 3466.85937591, norm 29.9692343233\n",
      "llh 3461.91337993, norm 29.961823854\n",
      "llh 3568.7189542, norm 30.12225634\n",
      "llh 3462.81746623, norm 29.9631789744\n",
      "llh 3472.34075185, norm 29.9774483946\n",
      "llh 3488.39996939, norm 30.0015296036\n",
      "llh 3438.26464324, norm 29.9264166902\n",
      "llh 3482.88069267, norm 29.9932473098\n",
      "llh 3483.55279506, norm 29.9942575485\n",
      "llh 3453.08749425, norm 29.9485992454\n",
      "llh 3417.62587917, norm 29.8955505049\n",
      "llh 3400.06252752, norm 29.869304856\n",
      "llh 3457.90327331, norm 29.9558153238\n",
      "llh 3427.32685346, norm 29.9100548209\n",
      "llh 3414.58404821, norm 29.8910001179\n",
      "llh 3487.61657095, norm 30.0003527025\n",
      "llh 3471.40300825, norm 29.9760435551\n",
      "llh 3501.37788089, norm 30.0210049804\n",
      "llh 3450.19938122, norm 29.9442778078\n",
      "llh 3422.71584392, norm 29.903159622\n",
      "llh 3391.86976789, norm 29.857077033\n",
      "llh 3472.30004529, norm 29.9773894395\n",
      " MINUIT WARNING IN HESSE   \n",
      " ============== Negative diagonal element 2 in Error Matrix\n",
      " MINUIT WARNING IN HESSE   \n",
      " ============== 3.46322e+15 added to diagonal of error matrix\n",
      " EIGENVALUES OF SECOND-DERIVATIVE MATRIX:\n",
      "        -2.2807e+08 -8.4555e-01  1.2386e+00  1.2686e+00  2.1736e+00  2.2807e+08\n",
      " MINUIT WARNING IN HESSE   \n",
      " ============== MATRIX FORCED POS-DEF BY ADDING 228301448.880233 TO DIAGONAL.\n",
      "llh 32486.5987891, norm 29.9288863189\n",
      "llh 14511.4857232, norm 16.3162703817\n",
      "llh 6759.17034225, norm 18.5686621523\n",
      "llh 4161.65669774, norm 22.8172312675\n",
      "llh 3433.88449676, norm 25.9451634597\n",
      "llh 125.560591317, norm 27.813888299\n",
      "llh 8327.95302408, norm 41.9154752233\n",
      "llh 8432.98271971, norm 42.1361727649\n",
      "llh 8323.15759291, norm 41.9000106151\n",
      "llh 8439.82221237, norm 42.1560296543\n",
      "llh 8332.60617405, norm 41.9252271789\n",
      "llh 8303.90799464, norm 41.8651137622\n",
      "llh 8362.53212901, norm 41.9880079257\n",
      "llh 8419.3418365, norm 42.1074437957\n",
      "llh 8329.45069001, norm 41.9186141465\n",
      "llh 8268.08231533, norm 41.7901874198\n",
      "llh 8415.31647383, norm 42.0989697619\n",
      "llh 8300.96245701, norm 41.8589472893\n",
      "llh 8354.9630463, norm 41.972120397\n",
      "llh 8337.5810147, norm 41.9356582078\n",
      "llh 8347.52189739, norm 41.9565072618\n",
      "llh 8360.05344617, norm 41.9828045004\n",
      "llh 8404.35877197, norm 42.0759106814\n",
      "llh 8357.18238078, norm 41.9767781641\n",
      "llh 8337.78476831, norm 41.936087339\n",
      "llh 8383.9480149, norm 42.032990619\n",
      "llh 8686.30827251, norm 42.0468353616\n",
      "llh 8639.83470773, norm 42.4161048227\n",
      "llh 8428.56420759, norm 42.1101214578\n",
      "llh 8389.81633371, norm 42.0444924822\n",
      " MIGRAD TERMINATED WITHOUT CONVERGENCE.\n",
      " FCN=125.561 FROM MIGRAD    STATUS=FAILED        182 CALLS         183 TOTAL\n",
      "                     EDM=102172    STRATEGY= 1      ERR MATRIX NOT POS-DEF\n",
      "  EXT PARAMETER                APPROXIMATE        STEP         FIRST   \n",
      "  NO.   NAME      VALUE            ERROR          SIZE      DERIVATIVE \n",
      "   1  rho(770)_width   1.49555e-01   1.21153e-14  -0.00000e+00  -1.23637e+10\n",
      "   2  rho(770)_mass   6.88577e-01   8.97231e-05   0.00000e+00  -3.11712e+05\n",
      "   3  K*_phase     2.32500e+00   3.08376e-12  -0.00000e+00   3.61175e+07\n",
      "   4  K*_width     5.00000e-02   2.77556e-17  -0.00000e+00   2.52227e+16\n",
      "   5  K*_mass      9.00000e-01   5.55112e-17  -0.00000e+00   1.00328e+17\n",
      "   6  K*_ampl      6.00000e-01   3.35287e-13  -0.00000e+00  -1.42438e+08\n"
     ]
    }
   ],
   "source": [
    "MLFit(model, params, data)"
   ]
  },
  {
   "cell_type": "code",
   "execution_count": null,
   "metadata": {
    "collapsed": true,
    "deletable": true,
    "editable": true
   },
   "outputs": [],
   "source": []
  }
 ],
 "metadata": {
  "kernelspec": {
   "display_name": "Python 2",
   "language": "python",
   "name": "python2"
  },
  "language_info": {
   "codemirror_mode": {
    "name": "ipython",
    "version": 2
   },
   "file_extension": ".py",
   "mimetype": "text/x-python",
   "name": "python",
   "nbconvert_exporter": "python",
   "pygments_lexer": "ipython2",
   "version": "2.7.12+"
  }
 },
 "nbformat": 4,
 "nbformat_minor": 2
}
