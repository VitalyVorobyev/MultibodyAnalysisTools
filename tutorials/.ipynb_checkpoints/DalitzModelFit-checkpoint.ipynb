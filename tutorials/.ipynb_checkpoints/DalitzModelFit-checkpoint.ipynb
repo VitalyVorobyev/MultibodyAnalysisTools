{
 "cells": [
  {
   "cell_type": "code",
   "execution_count": 1,
   "metadata": {
    "collapsed": false,
    "deletable": true,
    "editable": true
   },
   "outputs": [
    {
     "data": {
      "application/javascript": [
       "\n",
       "require(['notebook'],\n",
       "  function() {\n",
       "    IPython.CodeCell.config_defaults.highlight_modes['magic_text/x-c++src'] = {'reg':[/^%%cpp/]};\n",
       "    console.log(\"JupyROOT - %%cpp magic configured\");\n",
       "  }\n",
       ");\n"
      ]
     },
     "metadata": {},
     "output_type": "display_data"
    },
    {
     "name": "stdout",
     "output_type": "stream",
     "text": [
      "Welcome to JupyROOT 6.09/01\n"
     ]
    }
   ],
   "source": [
    "import sys\n",
    "sys.path.append(\"../lib/\")\n",
    "\n",
    "from DalitzModel import *\n",
    "from DalitzModelFitter import *"
   ]
  },
  {
   "cell_type": "code",
   "execution_count": 2,
   "metadata": {
    "collapsed": true,
    "deletable": true,
    "editable": true
   },
   "outputs": [],
   "source": [
    "model = DalitzModel(.475, .135, .135, 1.865)\n",
    "model.add_bw('rho(770)', .770, .1490, 1, 'BC')\n",
    "model.add_bw('K*', .89166, 0.0508, 1, 'AB', 0.638*np.exp(1j*np.radians(133.2)))"
   ]
  },
  {
   "cell_type": "code",
   "execution_count": 3,
   "metadata": {
    "collapsed": false,
    "deletable": true,
    "editable": true
   },
   "outputs": [],
   "source": [
    "data = model.sample(10**4, 'AB', 'BC', True)"
   ]
  },
  {
   "cell_type": "code",
   "execution_count": 4,
   "metadata": {
    "collapsed": true,
    "deletable": true,
    "editable": true
   },
   "outputs": [],
   "source": [
    "params = {\n",
    "    'K*' : {\n",
    "        'ampl' : [0.6, 0.1, 0.4, 1.0],\n",
    "#         'phase' : [2.325, 0.1, -np.pi, np.pi]\n",
    "    }\n",
    "}"
   ]
  },
  {
   "cell_type": "code",
   "execution_count": 5,
   "metadata": {
    "collapsed": false,
    "deletable": true,
    "editable": true
   },
   "outputs": [
    {
     "data": {
      "text/plain": [
       "<DalitzModelFitter.MLFit at 0x7f29782bb6d0>"
      ]
     },
     "execution_count": 5,
     "metadata": {},
     "output_type": "execute_result"
    },
    {
     "name": "stdout",
     "output_type": "stream",
     "text": [
      " PARAMETER DEFINITIONS:\n",
      "    NO.   NAME         VALUE      STEP SIZE      LIMITS\n",
      "     1 K*_ampl      6.00000e-01  1.00000e-01    4.00000e-01  1.00000e+00\n",
      " **********\n",
      " **    1 **SET PRING           0           0\n",
      " **********\n",
      " **********\n",
      " **    2 **MIGRAD        5000        0.01\n",
      " **********\n",
      "area 3.29827901825\n",
      "llh 3575.28573055, norm 34.0054517366\n",
      "llh 2773.94969853, norm 32.7679808683\n",
      "llh 3003.88496849, norm 32.948711819\n",
      "llh 2837.68132204, norm 32.7839957002\n",
      "llh 2925.9248347, norm 32.9092238847\n",
      "llh 2894.44632625, norm 32.8683066417\n",
      "llh 2914.14391824, norm 32.8987210606\n",
      "llh 2913.65275411, norm 32.8998859405\n",
      "llh 2919.48816571, norm 32.9134336388\n",
      "llh 2813.24568964, norm 32.7370884344\n",
      "llh 2881.87067868, norm 32.849708978\n",
      "llh 2930.24309409, norm 32.9290586648\n",
      "llh 2879.1156999, norm 32.8450956468\n",
      "llh 2985.13703746, norm 33.0196522068\n",
      "llh 2854.67351718, norm 32.8049715321\n",
      "llh 2819.75461191, norm 32.7477428345\n",
      "llh 2979.6832686, norm 33.0106587065\n",
      "llh 2881.512107, norm 32.8490215446\n",
      "llh 2841.12890184, norm 32.7827625172\n",
      "llh 2901.01831712, norm 32.881073671\n",
      "llh 2924.3238325, norm 32.9194137719\n",
      "llh 2877.24007349, norm 32.8420049398\n",
      "llh 2870.92400524, norm 32.8316358576\n",
      "llh 2898.22309584, norm 32.8764798463\n",
      " MINUIT WARNING IN HESSE   \n",
      " ============== Negative diagonal element 1 in Error Matrix\n",
      " MINUIT WARNING IN HESSE   \n",
      " ============== 7.96531e+14 added to diagonal of error matrix\n",
      "llh 403.191168876, norm 32.7746628379\n",
      "llh -961.200672347, norm 37.1880165377\n",
      "llh 10385.0301712, norm 49.1139188983\n",
      "llh -1081.38370693, norm 33.5994426936\n",
      "llh 10086.0182885, norm 42.5126763777\n",
      "llh -5039.41836359, norm 30.3012488813\n",
      "llh 6306.94524903, norm 48.9647886265\n",
      " MIGRAD TERMINATED WITHOUT CONVERGENCE.\n",
      " FCN=-1081.38 FROM MIGRAD    STATUS=FAILED         30 CALLS          31 TOTAL\n",
      "                     EDM=565.229    STRATEGY= 1  ERROR MATRIX UNCERTAINTY  19.7 per cent\n",
      "  EXT PARAMETER                APPROXIMATE        STEP         FIRST   \n",
      "  NO.   NAME      VALUE            ERROR          SIZE      DERIVATIVE \n",
      "   1  K*_ampl      8.57211e-01   4.51339e-01  -0.00000e+00   3.36223e+01\n"
     ]
    }
   ],
   "source": [
    "MLFit(model, params, data)"
   ]
  },
  {
   "cell_type": "code",
   "execution_count": null,
   "metadata": {
    "collapsed": true,
    "deletable": true,
    "editable": true
   },
   "outputs": [],
   "source": []
  }
 ],
 "metadata": {
  "kernelspec": {
   "display_name": "Python 2",
   "language": "python",
   "name": "python2"
  },
  "language_info": {
   "codemirror_mode": {
    "name": "ipython",
    "version": 2
   },
   "file_extension": ".py",
   "mimetype": "text/x-python",
   "name": "python",
   "nbconvert_exporter": "python",
   "pygments_lexer": "ipython2",
   "version": "2.7.12+"
  }
 },
 "nbformat": 4,
 "nbformat_minor": 2
}
