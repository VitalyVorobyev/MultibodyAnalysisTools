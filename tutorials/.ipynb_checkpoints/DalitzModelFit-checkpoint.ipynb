{
 "cells": [
  {
   "cell_type": "code",
   "execution_count": 1,
   "metadata": {
    "collapsed": false,
    "deletable": true,
    "editable": true
   },
   "outputs": [
    {
     "data": {
      "application/javascript": [
       "\n",
       "require(['notebook'],\n",
       "  function() {\n",
       "    IPython.CodeCell.config_defaults.highlight_modes['magic_text/x-c++src'] = {'reg':[/^%%cpp/]};\n",
       "    console.log(\"JupyROOT - %%cpp magic configured\");\n",
       "  }\n",
       ");\n"
      ]
     },
     "metadata": {},
     "output_type": "display_data"
    },
    {
     "name": "stdout",
     "output_type": "stream",
     "text": [
      "Welcome to JupyROOT 6.07/07\n"
     ]
    }
   ],
   "source": [
    "import sys\n",
    "sys.path.append(\"../lib/\")\n",
    "\n",
    "import numpy as np\n",
    "\n",
    "from DalitzModel import *\n",
    "from DalitzModelFitter import *\n",
    "import matplotlib.pyplot as plt"
   ]
  },
  {
   "cell_type": "markdown",
   "metadata": {},
   "source": [
    "## Build a decay model for $D^0\\to K_S^0\\pi^+\\pi^-$"
   ]
  },
  {
   "cell_type": "code",
   "execution_count": 2,
   "metadata": {
    "collapsed": true,
    "deletable": true,
    "editable": true
   },
   "outputs": [],
   "source": [
    "model = DalitzModel(.475, .135, .135, 1.865)\n",
    "model.add_bw('rho(770)', .770, .1490, 1, 'BC')\n",
    "model.add_bw('K*', .89166, 0.0508, 1, 'AB', 0.638*np.exp(1j*np.radians(133.2)))"
   ]
  },
  {
   "cell_type": "markdown",
   "metadata": {},
   "source": [
    "## Generate a sample with the model"
   ]
  },
  {
   "cell_type": "code",
   "execution_count": 3,
   "metadata": {
    "collapsed": false,
    "deletable": true,
    "editable": true
   },
   "outputs": [
    {
     "name": "stdout",
     "output_type": "stream",
     "text": [
      "Efficiency: 0.043625\n"
     ]
    }
   ],
   "source": [
    "data = model.sample(10**3, 'AB', 'BC', silent=True)"
   ]
  },
  {
   "cell_type": "markdown",
   "metadata": {},
   "source": [
    "## Let's look at the model"
   ]
  },
  {
   "cell_type": "code",
   "execution_count": 4,
   "metadata": {
    "collapsed": false
   },
   "outputs": [],
   "source": [
    "def plot_density_countours(msq1g, msq2g, dens, num=None, figsize=None, nlevels=25, cmap=plt.cm.PuBu):\n",
    "    fig = plt.figure(num=num, figsize=figsize)\n",
    "    levels = np.linspace(0, max(dens.flatten()), nlevels)\n",
    "    CS = plt.contourf(msq1g, msq2g, dens, cmap=cmap, levels=levels)\n",
    "    plt.colorbar(CS)"
   ]
  },
  {
   "cell_type": "code",
   "execution_count": 5,
   "metadata": {
    "collapsed": true
   },
   "outputs": [],
   "source": [
    "def phsp_edge(phsp, rtype1, rtype2):\n",
    "    \"\"\" Calculate phase space edges \"\"\"\n",
    "    mr1_min, mr1_max = phsp.mass_sq_range[rtype1]\n",
    "    mr1_space = np.linspace(mr1_min, mr1_max, 1000)\n",
    "    mr2_mins, mr2_maxs = phsp.mr_sq_range(rtype2, mr1_space, rtype1)\n",
    "    mr1 = np.concatenate([mr1_space, mr1_space[::-1]])\n",
    "    mr2 = np.concatenate([mr2_mins, mr2_maxs[::-1]])\n",
    "    return [mr1, mr2]"
   ]
  },
  {
   "cell_type": "code",
   "execution_count": 6,
   "metadata": {
    "collapsed": true
   },
   "outputs": [],
   "source": [
    "def show_phase_space(phsp, rtype1, rtype2, num=None, color=None):\n",
    "    \"\"\" Plot phase space edge \"\"\"\n",
    "    if color is None:\n",
    "        color = 'blue'\n",
    "    mr1, mr2 = phsp_edge(phsp, rtype1, rtype2)\n",
    "    mr1_range = max(mr1) - min(mr1)\n",
    "    mr2_range = max(mr2) - min(mr2)\n",
    "    fig = plt.figure(num=num)\n",
    "    plt.plot(mr1, mr2, linestyle='-', color=color)\n",
    "    plt.gca().set_xlabel(r'$m^{2}_{\\mathrm{' + rtype1 + r'}}\\ (GeV^{2}/c^{4})$')\n",
    "    plt.gca().set_ylabel(r'$m^{2}_{\\mathrm{' + rtype2 + r'}}\\ (GeV^{2}/c^{4})$')\n",
    "    plt.axis('equal')\n",
    "    plt.tight_layout()\n",
    "    plt.xlim(0, 1.05*max(mr1))\n",
    "    plt.ylim(0, 1.05*max(mr2))"
   ]
  },
  {
   "cell_type": "code",
   "execution_count": 7,
   "metadata": {
    "collapsed": false
   },
   "outputs": [
    {
     "data": {
      "text/plain": [
       "34.005079222308254"
      ]
     },
     "execution_count": 7,
     "metadata": {},
     "output_type": "execute_result"
    },
    {
     "name": "stdout",
     "output_type": "stream",
     "text": [
      "area 3.29636896243\n"
     ]
    }
   ],
   "source": [
    "model.integrate()"
   ]
  },
  {
   "cell_type": "code",
   "execution_count": 8,
   "metadata": {
    "collapsed": false
   },
   "outputs": [
    {
     "data": {
      "text/plain": [
       "3.2963689624320009"
      ]
     },
     "execution_count": 8,
     "metadata": {},
     "output_type": "execute_result"
    }
   ],
   "source": [
    "model.area"
   ]
  },
  {
   "cell_type": "code",
   "execution_count": 9,
   "metadata": {
    "collapsed": false
   },
   "outputs": [
    {
     "data": {
      "image/png": "[encoded data removed]",
      "text/plain": [
       "<matplotlib.figure.Figure at 0x7efead3a5050>"
      ]
     },
     "metadata": {},
     "output_type": "display_data"
    }
   ],
   "source": [
    "msq1g, msq2g, dens = model.grid_dens('AB', 'BC', 250)\n",
    "show_phase_space(model, 'AB', 'BC', 5)\n",
    "plot_density_countours(msq1g, msq2g, dens, 5, (10, 6))\n",
    "plt.show()"
   ]
  },
  {
   "cell_type": "markdown",
   "metadata": {},
   "source": [
    "## Define a set of parameters to be optimized"
   ]
  },
  {
   "cell_type": "code",
   "execution_count": 10,
   "metadata": {
    "collapsed": true
   },
   "outputs": [],
   "source": [
    "params = {\n",
    "    'K*' : {\n",
    "        'ampl' : [.6, .1, .4, 1.0],\n",
    "#         'phase' : [2.325, .1, -np.pi, np.pi],\n",
    "#         'mass' : [.9, .1, .7, 1.1],\n",
    "#         'width' : [.05, .01, .04, .06]\n",
    "    },\n",
    "#     'rho(770)' : {\n",
    "#         'mass' : [.8, .1, .5, 1.0],\n",
    "#         'width' : [.150, .05, .1, .2]\n",
    "#     }\n",
    "}"
   ]
  },
  {
   "cell_type": "code",
   "execution_count": 11,
   "metadata": {
    "collapsed": false
   },
   "outputs": [],
   "source": [
    "# ints = []\n",
    "# nevts = np.logspace(2, 7)\n",
    "# for nevt in nevts:\n",
    "#     ints.append(model.integrate(int(nevt)))\n",
    "# plt.plot(nevts, ints, 'b-')\n",
    "# plt.gca().semilogx()"
   ]
  },
  {
   "cell_type": "code",
   "execution_count": 12,
   "metadata": {
    "collapsed": false
   },
   "outputs": [],
   "source": [
    "# plt.show()"
   ]
  },
  {
   "cell_type": "markdown",
   "metadata": {},
   "source": [
    "## Run max likelihood optimization"
   ]
  },
  {
   "cell_type": "code",
   "execution_count": 13,
   "metadata": {
    "collapsed": false,
    "deletable": true,
    "editable": true
   },
   "outputs": [
    {
     "data": {
      "text/plain": [
       "<DalitzModelFitter.MLFit at 0x7efead37e810>"
      ]
     },
     "execution_count": 13,
     "metadata": {},
     "output_type": "execute_result"
    },
    {
     "name": "stdout",
     "output_type": "stream",
     "text": [
      " PARAMETER DEFINITIONS:\n",
      "    NO.   NAME         VALUE      STEP SIZE      LIMITS\n",
      "     1 K*_phase     2.32500e+00  1.00000e-01   -3.14159e+00  3.14159e+00\n",
      "     2 K*_ampl      6.00000e-01  1.00000e-01    4.00000e-01  1.00000e+00\n",
      " **********\n",
      " **    1 **SET PRING           0           0\n",
      " **********\n",
      " **********\n",
      " **    2 **MIGRAD        5000        0.01\n",
      " **********\n",
      "llh 64217.6749773, norm 33.982143766\n",
      "llh 61789.7761768, norm 32.8218579148\n",
      "llh 61774.516329, norm 32.8162206036\n",
      "llh 61808.0316859, norm 32.8313241897\n",
      "llh 61810.1408216, norm 32.8324964418\n",
      "llh 61894.7960006, norm 32.872833233\n",
      "llh 61855.4064933, norm 32.8540390825\n",
      "llh 61762.2273044, norm 32.821469352\n",
      "llh 62750.6509127, norm 33.2696088659\n",
      "llh 61097.0644888, norm 32.4930755733\n",
      "llh 61896.3341551, norm 32.8723812047\n",
      "llh 61786.2432975, norm 32.8211210837\n",
      "llh 61797.5789547, norm 32.8262955288\n",
      "llh 61821.3800582, norm 32.8377895911\n",
      "llh 61847.9752564, norm 32.8505232497\n",
      "llh 61728.5307171, norm 32.7934653722\n",
      "llh 61877.6607849, norm 32.8646823449\n",
      "llh 61829.5545254, norm 32.8417106136\n",
      "llh 61798.8726358, norm 32.827057419\n",
      "llh 61900.2757435, norm 32.8754831369\n",
      "llh 61829.8300191, norm 32.8418412963\n",
      "llh 61801.0559837, norm 32.8281002259\n",
      "llh 61805.841042, norm 32.8303972465\n",
      "llh 61790.7139655, norm 32.8231493401\n",
      "llh 61861.7242072, norm 32.8570737734\n",
      "llh 61809.3609077, norm 32.8320650325\n",
      "llh 61830.8135142, norm 32.8423111446\n",
      "llh 61798.1166583, norm 32.8266963613\n",
      "llh 61795.7224677, norm 32.8255531165\n",
      "llh 61813.516319, norm 32.8340506645\n",
      "llh 61846.4165521, norm 32.8497622768\n",
      "llh 61852.716652, norm 32.8527710322\n",
      "llh 61789.5428646, norm 32.8226021429\n",
      "llh 61775.1804796, norm 32.8157430763\n",
      "llh 61746.7224253, norm 32.8021529951\n",
      "llh 61742.1738547, norm 32.7999806365\n",
      "llh 61851.7126196, norm 32.8522915386\n",
      "llh 61801.293033, norm 32.8282133312\n",
      "llh 61822.9691736, norm 32.8385648937\n",
      "llh 61869.8122543, norm 32.8609350932\n",
      "llh 61854.7792607, norm 32.8537559796\n",
      "llh 61835.6029615, norm 32.8445982548\n",
      "llh 61761.8599072, norm 32.8093819124\n",
      "llh 61756.7127287, norm 32.806923809\n",
      "llh 61848.0173291, norm 32.8505267958\n",
      "llh 61859.4457511, norm 32.8559844864\n",
      "llh 61841.5582604, norm 32.8474422186\n",
      "llh 61790.7895707, norm 32.8232004426\n",
      "llh 61843.2524065, norm 32.8482528052\n",
      "llh 61845.0185546, norm 32.849112964\n",
      "llh 61851.9238743, norm 32.8524030399\n",
      "llh 61784.7583411, norm 32.8203240063\n",
      "llh 61793.4229293, norm 32.8244608434\n",
      "llh 61831.6122616, norm 32.8427029773\n",
      "llh 61875.3617642, norm 32.8635939426\n",
      "llh 61859.999952, norm 32.8562569208\n",
      "llh 61865.4557752, norm 32.8588619194\n",
      "llh 61822.7867146, norm 32.8384845872\n",
      "llh 61888.4883904, norm 32.8698608574\n",
      "llh 61806.1050966, norm 32.8305182973\n",
      "llh 61836.8870579, norm 32.8452182885\n",
      "llh 61862.3271881, norm 32.8573721605\n",
      "llh 61928.5866472, norm 32.8890122967\n",
      "llh 61805.5212357, norm 32.8302405978\n",
      "llh 61838.8107625, norm 32.8461375878\n",
      "llh 61743.1085708, norm 32.8004342375\n",
      "llh 61778.2310271, norm 32.8172070885\n",
      "llh 61846.5693627, norm 32.8498427164\n",
      "llh 61820.8287305, norm 32.8375500164\n",
      "llh 61800.3072069, norm 32.8277497947\n",
      "llh 61870.8928518, norm 32.861458283\n",
      "llh 61867.8081162, norm 32.8599850629\n",
      "llh 61844.2354919, norm 32.848727952\n",
      "llh 61807.0747086, norm 32.8309816241\n",
      "llh 61922.0262366, norm 32.885877206\n",
      " MINUIT WARNING IN MIGRAD  \n",
      " ============== Negative diagonal element 1 in Error Matrix\n",
      " MINUIT WARNING IN MIGRAD  \n",
      " ============== Negative diagonal element 2 in Error Matrix\n",
      " MINUIT WARNING IN MIGRAD  \n",
      " ============== 1 added to diagonal of error matrix\n",
      "llh 62135.605346, norm 32.8269019068\n",
      "llh 62416.7613587, norm 33.43582242\n",
      "llh 103024.150722, norm 52.3772151733\n",
      "llh 63193.4906298, norm 33.2804874451\n",
      "llh 55700.5732699, norm 30.2027536952\n",
      "llh 111951.122696, norm 57.0560457306\n",
      "llh 97193.0648237, norm 49.9210846034\n",
      "llh 108530.668487, norm 55.477213002\n",
      "llh 121553.761836, norm 61.448135424\n",
      "llh 82830.9488259, norm 42.7232353457\n",
      "llh 62625.6787039, norm 33.4584385854\n",
      "llh 84166.6785411, norm 43.8441345989\n",
      "llh 102545.296879, norm 52.5110411731\n",
      "llh 92755.5621888, norm 47.8014031756\n",
      "llh 88593.4733227, norm 45.813699627\n",
      "llh 86486.3357657, norm 44.4612303958\n",
      "llh 58225.7981191, norm 30.9854715348\n",
      "llh 61422.6013503, norm 32.7253021864\n",
      "llh 81255.605473, norm 42.3843976438\n",
      "llh 119776.33695, norm 60.679869965\n",
      " MIGRAD TERMINATED WITHOUT CONVERGENCE.\n",
      " FCN=55700.6 FROM MIGRAD    STATUS=FAILED         94 CALLS          95 TOTAL\n",
      "                     EDM=5.75537e+08    STRATEGY= 1  ERROR MATRIX UNCERTAINTY 100.0 per cent\n",
      "  EXT PARAMETER                APPROXIMATE        STEP         FIRST   \n",
      "  NO.   NAME      VALUE            ERROR          SIZE      DERIVATIVE \n",
      "   1  K*_phase     2.12288e-03   2.63802e+00  -0.00000e+00   1.66921e+04\n",
      "   2  K*_ampl      9.21591e-01   5.25133e-02  -0.00000e+00  -1.23158e+03\n"
     ]
    }
   ],
   "source": [
    "MLFit(model, params, data)"
   ]
  },
  {
   "cell_type": "code",
   "execution_count": null,
   "metadata": {
    "collapsed": true,
    "deletable": true,
    "editable": true
   },
   "outputs": [],
   "source": []
  }
 ],
 "metadata": {
  "kernelspec": {
   "display_name": "Python 2",
   "language": "python",
   "name": "python2"
  },
  "language_info": {
   "codemirror_mode": {
    "name": "ipython",
    "version": 2
   },
   "file_extension": ".py",
   "mimetype": "text/x-python",
   "name": "python",
   "nbconvert_exporter": "python",
   "pygments_lexer": "ipython2",
   "version": "2.7.13"
  }
 },
 "nbformat": 4,
 "nbformat_minor": 2
}
