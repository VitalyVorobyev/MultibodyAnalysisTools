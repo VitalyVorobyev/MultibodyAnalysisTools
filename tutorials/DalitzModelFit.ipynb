{
 "cells": [
  {
   "cell_type": "code",
   "execution_count": 1,
   "metadata": {},
   "outputs": [
    {
     "name": "stdout",
     "output_type": "stream",
     "text": [
      "Welcome to JupyROOT 6.15/01\n"
     ]
    }
   ],
   "source": [
    "import sys\n",
    "sys.path.append(\"../lib/\")\n",
    "\n",
    "import numpy as np\n",
    "\n",
    "from DalitzModel import *\n",
    "from DalitzModelFitter import *\n",
    "from PlotUtility import *\n",
    "import matplotlib.pyplot as plt\n",
    "\n",
    "%matplotlib inline"
   ]
  },
  {
   "cell_type": "markdown",
   "metadata": {},
   "source": [
    "## Build a decay model for $D^0\\to K_S^0\\pi^+\\pi^-$"
   ]
  },
  {
   "cell_type": "code",
   "execution_count": 2,
   "metadata": {},
   "outputs": [],
   "source": [
    "model = DalitzModel(.475, .135, .135, 1.865)\n",
    "model.add_bw('rho(770)', .770, .1490, 1, 'BC')\n",
    "model.add_bw('K*', .89166, 0.0508, 1, 'AB', 0.638*np.exp(1j*np.radians(133.2)))"
   ]
  },
  {
   "cell_type": "markdown",
   "metadata": {},
   "source": [
    "## Generate a sample with the model"
   ]
  },
  {
   "cell_type": "code",
   "execution_count": 3,
   "metadata": {},
   "outputs": [
    {
     "name": "stdout",
     "output_type": "stream",
     "text": [
      "Efficiency: 0.0445217391304\n"
     ]
    }
   ],
   "source": [
    "data = model.sample(10**3, 'AB', 'BC', silent=True)"
   ]
  },
  {
   "cell_type": "markdown",
   "metadata": {},
   "source": [
    "## Let's look at the model"
   ]
  },
  {
   "cell_type": "code",
   "execution_count": 4,
   "metadata": {},
   "outputs": [
    {
     "name": "stdout",
     "output_type": "stream",
     "text": [
      "area 3.296831858611201\n"
     ]
    },
    {
     "data": {
      "text/plain": [
       "34.003489453409614"
      ]
     },
     "execution_count": 4,
     "metadata": {},
     "output_type": "execute_result"
    }
   ],
   "source": [
    "model.integrate()"
   ]
  },
  {
   "cell_type": "code",
   "execution_count": 5,
   "metadata": {},
   "outputs": [
    {
     "data": {
      "text/plain": [
       "3.296831858611201"
      ]
     },
     "execution_count": 5,
     "metadata": {},
     "output_type": "execute_result"
    }
   ],
   "source": [
    "model.area"
   ]
  },
  {
   "cell_type": "code",
   "execution_count": 6,
   "metadata": {},
   "outputs": [
    {
     "data": {
      "image/png": "[encoded data removed]",
      "text/plain": [
       "<matplotlib.figure.Figure at 0x7f4439b9f490>"
      ]
     },
     "metadata": {},
     "output_type": "display_data"
    }
   ],
   "source": [
    "plt.figure(num=12, figsize=(10, 4))\n",
    "show_phase_space(model, 'AB', 'BC', 12)\n",
    "plot_density_countours(model, 'AB', 'BC', 12)\n",
    "plt.show()"
   ]
  },
  {
   "cell_type": "markdown",
   "metadata": {},
   "source": [
    "## Define a set of parameters to be optimized"
   ]
  },
  {
   "cell_type": "code",
   "execution_count": 7,
   "metadata": {
    "collapsed": true
   },
   "outputs": [],
   "source": [
    "params = {\n",
    "    'K*' : {\n",
    "        'ampl' : [.6, .1, .4, 1.0],\n",
    "#         'phase' : [2.325, .1, -np.pi, np.pi],\n",
    "#         'mass' : [.9, .1, .7, 1.1],\n",
    "#         'width' : [.05, .01, .04, .06]\n",
    "    },\n",
    "#     'rho(770)' : {\n",
    "#         'mass' : [.8, .1, .5, 1.0],\n",
    "#         'width' : [.150, .05, .1, .2]\n",
    "#     }\n",
    "}"
   ]
  },
  {
   "cell_type": "code",
   "execution_count": 8,
   "metadata": {},
   "outputs": [],
   "source": [
    "# ints = []\n",
    "# nevts = np.logspace(2, 7)\n",
    "# for nevt in nevts:\n",
    "#     ints.append(model.integrate(int(nevt)))"
   ]
  },
  {
   "cell_type": "code",
   "execution_count": 9,
   "metadata": {},
   "outputs": [],
   "source": [
    "# plt.plot(nevts, ints, 'b-')\n",
    "# plt.grid()\n",
    "# plt.gca().semilogx()\n",
    "# plt.show()"
   ]
  },
  {
   "cell_type": "markdown",
   "metadata": {},
   "source": [
    "## Run max likelihood optimization"
   ]
  },
  {
   "cell_type": "code",
   "execution_count": 10,
   "metadata": {},
   "outputs": [
    {
     "data": {
      "text/plain": [
       "<DalitzModelFitter.MLFit at 0x7f12055ad810>"
      ]
     },
     "execution_count": 10,
     "metadata": {},
     "output_type": "execute_result"
    },
    {
     "name": "stdout",
     "output_type": "stream",
     "text": [
      " PARAMETER DEFINITIONS:\n",
      "    NO.   NAME         VALUE      STEP SIZE      LIMITS\n",
      "     1 K*_ampl      6.00000e-01  1.00000e-01    4.00000e-01  1.00000e+00\n",
      " **********\n",
      " **    1 **SET PRING           0           0\n",
      " **********\n",
      " **********\n",
      " **    2 **MIGRAD        5000        0.01\n",
      " **********\n",
      "  par K*_ampl : 0.6\n",
      "llh 375.047300279, norm 34.0188655537\n",
      "  par K*_ampl : 0.601032654086\n",
      "llh 304.370316505, norm 32.9049993024\n",
      "  par K*_ampl : 0.598968677169\n",
      "llh 308.944096768, norm 32.9110229014\n",
      "  par K*_ampl : 0.600103205729\n",
      "llh 298.078022657, norm 32.7745852359\n",
      "  par K*_ampl : 0.599896807584\n",
      "llh 308.354512558, norm 32.931782922\n",
      "  par K*_ampl : 0.600010319974\n",
      "llh 302.910306515, norm 32.8485455361\n",
      "  par K*_ampl : 0.599989680159\n",
      "llh 308.310762472, norm 32.9341026675\n",
      "  par K*_ampl : 0.600010319974\n",
      "llh 311.143099509, norm 32.9800874747\n",
      "  par K*_ampl : 0.600051601201\n",
      "llh 294.665831291, norm 32.7186758031\n",
      "  par K*_ampl : 0.600032738056\n",
      "llh 301.831083736, norm 32.8320673371\n",
      "  par K*_ampl : 0.600154813581\n",
      "llh 303.616592026, norm 32.8644961638\n",
      "  par K*_ampl : 0.600091859984\n",
      "llh 305.189490053, norm 32.887555897\n",
      "  par K*_ampl : 0.60007173034\n",
      "llh 304.875810626, norm 32.8818951772\n",
      "  par K*_ampl : 0.600061665707\n",
      "llh 299.81667819, norm 32.8009141307\n",
      "  par K*_ampl : 0.600048331357\n",
      "llh 304.161937602, norm 32.8697431466\n",
      "  par K*_ampl : 0.600052633259\n",
      "llh 306.933562144, norm 32.914137217\n",
      "  par K*_ampl : 0.600050569145\n",
      "llh 296.790489261, norm 32.7524054781\n",
      "  par K*_ampl : 0.600051704407\n",
      "llh 298.677977251, norm 32.7824655606\n",
      "  par K*_ampl : 0.600051497995\n",
      "llh 300.128209365, norm 32.8055457332\n",
      "  par K*_ampl : 0.600051647013\n",
      "llh 302.311725884, norm 32.8403415476\n",
      "  par K*_ampl : 0.600051555389\n",
      "llh 302.408744799, norm 32.8418852812\n",
      "  par K*_ampl : 0.600051601346\n",
      "llh 309.744854113, norm 32.9590523952\n",
      "  par K*_ampl : 0.600051601201\n",
      "llh 305.153345744, norm 32.8856721773\n",
      "  par K*_ampl : 0.600051647013\n",
      "llh 303.903278688, norm 32.8657237484\n",
      "  par K*_ampl : 0.600051555389\n",
      "llh 307.993716125, norm 32.9310454042\n",
      "  par K*_ampl : 0.600051624107\n",
      "llh 306.452079, norm 32.90641233\n",
      "  par K*_ampl : 0.600051578295\n",
      "llh 304.797476413, norm 32.8799908556\n",
      "  par K*_ampl : 0.600051605782\n",
      "llh 299.485563209, norm 32.795316664\n",
      "  par K*_ampl : 0.60005159662\n",
      "llh 304.44401111, norm 32.8743502177\n",
      "  par K*_ampl : 0.600052315396\n",
      "llh 303.159764585, norm 32.8538853632\n",
      "  par K*_ampl : 0.60005196015\n",
      "llh 311.502887609, norm 32.98720381\n",
      "  par K*_ampl : 0.600055886377\n",
      "llh 310.360794743, norm 32.9690480684\n",
      "  par K*_ampl : 0.600053202236\n",
      "llh 305.954404085, norm 32.8985146797\n",
      "  par K*_ampl : 0.600052361207\n",
      "llh 307.340874825, norm 32.9206369556\n",
      "  par K*_ampl : 0.600052269584\n",
      "llh 300.727076917, norm 32.8151090887\n",
      "  par K*_ampl : 0.600052231344\n",
      "llh 303.649162921, norm 32.8616887278\n",
      "  par K*_ampl : 0.600052276507\n",
      "llh 301.694255882, norm 32.8305197669\n",
      "  par K*_ampl : 0.600052322318\n",
      "llh 303.768464223, norm 32.863594861\n",
      "  par K*_ampl : 0.600052230695\n",
      "llh 299.687048879, norm 32.7985447134\n",
      "  par K*_ampl : 0.60005221383\n",
      "llh 302.958523039, norm 32.8506727285\n",
      "  par K*_ampl : 0.600052254936\n",
      "llh 311.00652296, norm 32.9792659735\n",
      " MIGRAD TERMINATED WITHOUT CONVERGENCE.\n",
      " FCN=301.694 FROM MIGRAD    STATUS=FAILED         40 CALLS          41 TOTAL\n",
      "                     EDM=1.27083    STRATEGY= 1  ERROR MATRIX UNCERTAINTY   6.0 per cent\n",
      "  EXT PARAMETER                APPROXIMATE        STEP         FIRST   \n",
      "  NO.   NAME      VALUE            ERROR          SIZE      DERIVATIVE \n",
      "   1  K*_ampl      6.00052e-01   5.30478e-08  -0.00000e+00   1.26002e+07\n",
      "llh 1.0, status 1, edm 1.0, errdef 1.0, nvpar 1, nparx 1\n"
     ]
    }
   ],
   "source": [
    "MLFit(model, params, data)"
   ]
  },
  {
   "cell_type": "code",
   "execution_count": null,
   "metadata": {
    "collapsed": true
   },
   "outputs": [],
   "source": []
  }
 ],
 "metadata": {
  "kernelspec": {
   "display_name": "Python 2",
   "language": "python",
   "name": "python2"
  },
  "language_info": {
   "codemirror_mode": {
    "name": "ipython",
    "version": 2
   },
   "file_extension": ".py",
   "mimetype": "text/x-python",
   "name": "python",
   "nbconvert_exporter": "python",
   "pygments_lexer": "ipython2",
   "version": "2.7.15+"
  }
 },
 "nbformat": 4,
 "nbformat_minor": 2
}
