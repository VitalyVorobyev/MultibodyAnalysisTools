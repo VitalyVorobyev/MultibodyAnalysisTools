{
 "cells": [
  {
   "cell_type": "code",
   "execution_count": 1,
   "metadata": {
    "collapsed": false,
    "deletable": true,
    "editable": true
   },
   "outputs": [
    {
     "data": {
      "application/javascript": [
       "\n",
       "require(['notebook'],\n",
       "  function() {\n",
       "    IPython.CodeCell.config_defaults.highlight_modes['magic_text/x-c++src'] = {'reg':[/^%%cpp/]};\n",
       "    console.log(\"JupyROOT - %%cpp magic configured\");\n",
       "  }\n",
       ");\n"
      ]
     },
     "metadata": {},
     "output_type": "display_data"
    },
    {
     "name": "stdout",
     "output_type": "stream",
     "text": [
      "Welcome to JupyROOT 6.09/01\n"
     ]
    }
   ],
   "source": [
    "import sys\n",
    "sys.path.append(\"../lib/\")\n",
    "\n",
    "import numpy as np\n",
    "\n",
    "from DalitzModel import *\n",
    "from DalitzModelFitter import *"
   ]
  },
  {
   "cell_type": "code",
   "execution_count": 2,
   "metadata": {
    "collapsed": true,
    "deletable": true,
    "editable": true
   },
   "outputs": [],
   "source": [
    "model = DalitzModel(.475, .135, .135, 1.865)\n",
    "model.add_bw('rho(770)', .770, .1490, 1, 'BC')\n",
    "model.add_bw('K*', .89166, 0.0508, 1, 'AB', 0.638*np.exp(1j*np.radians(133.2)))"
   ]
  },
  {
   "cell_type": "code",
   "execution_count": 3,
   "metadata": {
    "collapsed": false,
    "deletable": true,
    "editable": true
   },
   "outputs": [],
   "source": [
    "data = model.sample(10**4, 'AB', 'BC', True)"
   ]
  },
  {
   "cell_type": "code",
   "execution_count": 4,
   "metadata": {
    "collapsed": true,
    "deletable": true,
    "editable": true
   },
   "outputs": [],
   "source": [
    "params = {\n",
    "    'K*' : {\n",
    "        'ampl' : [0.6, 0.1, 0.4, 1.0],\n",
    "#         'phase' : [2.325, 0.1, -np.pi, np.pi]\n",
    "    }\n",
    "}"
   ]
  },
  {
   "cell_type": "code",
   "execution_count": 5,
   "metadata": {
    "collapsed": false,
    "deletable": true,
    "editable": true
   },
   "outputs": [
    {
     "data": {
      "text/plain": [
       "<DalitzModelFitter.MLFit at 0x7f4511924450>"
      ]
     },
     "execution_count": 5,
     "metadata": {},
     "output_type": "execute_result"
    },
    {
     "name": "stdout",
     "output_type": "stream",
     "text": [
      " PARAMETER DEFINITIONS:\n",
      "    NO.   NAME         VALUE      STEP SIZE      LIMITS\n",
      "     1 K*_ampl      6.00000e-01  1.00000e-01    4.00000e-01  1.00000e+00\n",
      " **********\n",
      " **    1 **SET PRING           0           0\n",
      " **********\n",
      " **********\n",
      " **    2 **MIGRAD        5000        0.01\n",
      " **********\n",
      "area 3.29624714765\n",
      "llh 3502.9583279, norm 33.945274653\n",
      "llh 2792.44685942, norm 32.8574581887\n",
      "llh 2971.15385267, norm 32.957006848\n",
      "llh 2806.22707059, norm 32.792787837\n",
      "llh 2862.45758428, norm 32.86568488\n",
      "llh 2898.75938616, norm 32.9360981134\n",
      "llh 2806.7009086, norm 32.7829064971\n",
      "llh 2847.82912365, norm 32.8503909826\n",
      "llh 2826.44379011, norm 32.8114051369\n",
      "llh 2867.44814873, norm 32.880668011\n",
      "llh 2864.87153403, norm 32.8647953439\n",
      "llh 2841.74848907, norm 32.8345119276\n",
      "llh 2786.65838369, norm 32.7469007016\n",
      "llh 2789.72335735, norm 32.7615996522\n",
      "llh 2844.0929235, norm 32.8459000415\n",
      "llh 2866.1652939, norm 32.8797546404\n",
      "llh 2836.53771995, norm 32.8298778011\n",
      "llh 2877.5223513, norm 32.8966188156\n",
      "llh 2800.30703143, norm 32.7693527143\n",
      "llh 2871.70992105, norm 32.8863587524\n",
      "llh 2839.12167187, norm 32.832923673\n",
      "llh 2857.67592017, norm 32.8633778935\n",
      "llh 2801.68160757, norm 32.7715096337\n",
      "llh 2870.29292109, norm 32.8841245204\n",
      "llh 2872.84184726, norm 32.8883177632\n",
      "llh 2910.34725614, norm 32.9500495968\n",
      "llh 2864.48065307, norm 32.8745723312\n",
      "llh 2798.79338977, norm 32.7667744327\n",
      "llh 2857.68906497, norm 32.8634099516\n",
      "llh 2792.51038449, norm 32.7564831033\n",
      "llh 2855.0734504, norm 32.8591117343\n",
      "llh 2767.10039047, norm 32.7148930224\n",
      " MINUIT WARNING IN HESSE   \n",
      " ============== Negative diagonal element 1 in Error Matrix\n",
      " MINUIT WARNING IN HESSE   \n",
      " ============== 5.979e+15 added to diagonal of error matrix\n",
      "llh -227.639328521, norm 32.7987305743\n",
      "llh 4034.88110207, norm 38.7795860022\n",
      "llh 3008.78690384, norm 36.5578456836\n",
      "llh 8013.22514606, norm 36.3221405758\n",
      "llh 3864.26655605, norm 29.2809571623\n",
      "llh 579.128583658, norm 29.0626857612\n",
      "llh 1559.80343292, norm 32.5677277885\n",
      "llh 3854.46241369, norm 34.6078607943\n",
      "llh 1336.52337836, norm 32.9299516331\n",
      " MIGRAD TERMINATED WITHOUT CONVERGENCE.\n",
      " FCN=-227.639 FROM MIGRAD    STATUS=FAILED         40 CALLS          41 TOTAL\n",
      "                     EDM=17.9402    STRATEGY= 1  ERROR MATRIX UNCERTAINTY   0.0 per cent\n",
      "  EXT PARAMETER                APPROXIMATE        STEP         FIRST   \n",
      "  NO.   NAME      VALUE            ERROR          SIZE      DERIVATIVE \n",
      "   1  K*_ampl      7.70235e-01   4.73688e-01   0.00000e+00  -5.99003e+00\n"
     ]
    }
   ],
   "source": [
    "MLFit(model, params, data)"
   ]
  },
  {
   "cell_type": "code",
   "execution_count": null,
   "metadata": {
    "collapsed": true,
    "deletable": true,
    "editable": true
   },
   "outputs": [],
   "source": []
  }
 ],
 "metadata": {
  "kernelspec": {
   "display_name": "Python 2",
   "language": "python",
   "name": "python2"
  },
  "language_info": {
   "codemirror_mode": {
    "name": "ipython",
    "version": 2
   },
   "file_extension": ".py",
   "mimetype": "text/x-python",
   "name": "python",
   "nbconvert_exporter": "python",
   "pygments_lexer": "ipython2",
   "version": "2.7.12+"
  }
 },
 "nbformat": 4,
 "nbformat_minor": 2
}
