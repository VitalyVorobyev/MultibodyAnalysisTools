{
 "cells": [
  {
   "cell_type": "code",
   "execution_count": 1,
   "metadata": {},
   "outputs": [],
   "source": [
    "import sys\n",
    "sys.path.append(\"../lib/\")\n",
    "\n",
    "import numpy as np\n",
    "import matplotlib.pyplot as plt\n",
    "from matplotlib import colors, ticker\n",
    "\n",
    "from DalitzModel import *\n",
    "from BWRes import *\n",
    "\n",
    "%matplotlib inline\n",
    "plt.rc('animation', html='html5')\n",
    "plt.rc('text', usetex=True)\n",
    "plt.rc('font', size=18)"
   ]
  },
  {
   "cell_type": "markdown",
   "metadata": {},
   "source": [
    "# Auxiliary functions"
   ]
  },
  {
   "cell_type": "markdown",
   "metadata": {},
   "source": [
    "The plot_ddist function draws a 2D hist for a Dalitz distribution"
   ]
  },
  {
   "cell_type": "code",
   "execution_count": 2,
   "metadata": {},
   "outputs": [],
   "source": [
    "def plot_ddist(mab, mbc, bins=200, num=None):\n",
    "    \"\"\" Scatter plot of Dalitz distribution \"\"\"\n",
    "    fig = plt.figure(num=num, figsize=(8,6))\n",
    "    ax = fig.add_subplot(111)\n",
    "    hist = ax.hist2d(mab, mbc, bins=bins, cmap=plt.cm.PuBu)\n",
    "    fig.colorbar(hist[3], ax=ax, pad=0.02)"
   ]
  },
  {
   "cell_type": "markdown",
   "metadata": {},
   "source": [
    "The phsp_edge function calculates edges of the kinematically allowed phase space"
   ]
  },
  {
   "cell_type": "code",
   "execution_count": 3,
   "metadata": {},
   "outputs": [],
   "source": [
    "def phsp_edge(phsp, rtype1, rtype2):\n",
    "    \"\"\" Calculate phase space edges \"\"\"\n",
    "    mr1_min, mr1_max = phsp.mass_sq_range[rtype1]\n",
    "    mr1_space = np.linspace(mr1_min, mr1_max, 1000)\n",
    "    mr2_mins, mr2_maxs = phsp.mr_sq_range(rtype2, mr1_space, rtype1)\n",
    "    mr1 = np.concatenate([mr1_space, mr1_space[::-1]])\n",
    "    mr2 = np.concatenate([mr2_mins, mr2_maxs[::-1]])\n",
    "    return [mr1, mr2]"
   ]
  },
  {
   "cell_type": "markdown",
   "metadata": {},
   "source": [
    "The show_phase_space function calls the phsp_edge function and draws kinematically allowed phase space"
   ]
  },
  {
   "cell_type": "code",
   "execution_count": 4,
   "metadata": {},
   "outputs": [],
   "source": [
    "def show_phase_space(phsp, rtype1, rtype2, num=None, color=None):\n",
    "    \"\"\" Plot phase space edge \"\"\"\n",
    "    if color is None:\n",
    "        color = 'blue'\n",
    "    mr1, mr2 = phsp_edge(phsp, rtype1, rtype2)\n",
    "    mr1_range = max(mr1) - min(mr1)\n",
    "    mr2_range = max(mr2) - min(mr2)\n",
    "    fig = plt.figure(num=num)\n",
    "    plt.plot(mr1, mr2, linestyle='-', color=color)\n",
    "    plt.gca().set_xlabel(r'$m^{2}_{\\mathrm{' + rtype1 + r'}}\\ (GeV^{2}/c^{4})$')\n",
    "    plt.gca().set_ylabel(r'$m^{2}_{\\mathrm{' + rtype2 + r'}}\\ (GeV^{2}/c^{4})$')\n",
    "    plt.axis('equal')\n",
    "    plt.tight_layout()\n",
    "    plt.xlim(0, 1.05*max(mr1))\n",
    "    plt.ylim(0, 1.05*max(mr2))"
   ]
  },
  {
   "cell_type": "code",
   "execution_count": 5,
   "metadata": {},
   "outputs": [],
   "source": [
    "def plot_density_countours(msq1g, msq2g, dens, num=None, figsize=None, nlevels=25, cmap=plt.cm.PuBu):\n",
    "    fig = plt.figure(num=num, figsize=figsize)\n",
    "    levels = np.linspace(0, max(dens.flatten()), nlevels)\n",
    "    CS = plt.contourf(msq1g, msq2g, dens, cmap=cmap, levels=levels)\n",
    "    plt.colorbar(CS)"
   ]
  },
  {
   "cell_type": "code",
   "execution_count": 6,
   "metadata": {},
   "outputs": [],
   "source": [
    "def projections(mab_sq, mac_sq, mbc_sq):\n",
    "    f, (ax1, ax2, ax3) = plt.subplots(1, 3, figsize=(16, 3))\n",
    "    ax1.hist(np.sqrt(mab_sq), bins=100, normed=True, edgecolor = \"none\", color=['steelblue']);\n",
    "    ax2.hist(np.sqrt(mac_sq), bins=100, normed=True, edgecolor = \"none\", color=['steelblue']);\n",
    "    ax3.hist(np.sqrt(mbc_sq), bins=100, normed=True,edgecolor = \"none\", color=['steelblue']);"
   ]
  },
  {
   "cell_type": "markdown",
   "metadata": {},
   "source": [
    "## Model initialization\n",
    "Define a $D^0 \\to K_S^0 \\pi^+ \\pi^-$ decay model with two resonances: $\\rho(770)$ and $K^*(892)$"
   ]
  },
  {
   "cell_type": "code",
   "execution_count": 7,
   "metadata": {},
   "outputs": [],
   "source": [
    "model = DalitzModel(.475, .135, .135, 1.865)\n",
    "model.add_bw('rho(770)', .770, .1490, 1, 'BC')\n",
    "model.add_bw('K*', .89166, 0.0508, 1, 'AB', 0.638*np.exp(1j*np.radians(133.2)))"
   ]
  },
  {
   "cell_type": "markdown",
   "metadata": {},
   "source": [
    "## Density contour plot"
   ]
  },
  {
   "cell_type": "code",
   "execution_count": 8,
   "metadata": {},
   "outputs": [
    {
     "name": "stdout",
     "output_type": "stream",
     "text": [
      "[[0.3721    0.3826253 0.3931506 ... 2.9718494 2.9823747 2.9929   ]\n",
      " [0.3721    0.3826253 0.3931506 ... 2.9718494 2.9823747 2.9929   ]\n",
      " [0.3721    0.3826253 0.3931506 ... 2.9718494 2.9823747 2.9929   ]\n",
      " ...\n",
      " [0.3721    0.3826253 0.3931506 ... 2.9718494 2.9823747 2.9929   ]\n",
      " [0.3721    0.3826253 0.3931506 ... 2.9718494 2.9823747 2.9929   ]\n",
      " [0.3721    0.3826253 0.3931506 ... 2.9718494 2.9823747 2.9929   ]]\n",
      "(250, 250)\n"
     ]
    },
    {
     "data": {
      "image/png": "[encoded data removed]",
      "text/plain": [
       "<Figure size 720x432 with 2 Axes>"
      ]
     },
     "metadata": {},
     "output_type": "display_data"
    }
   ],
   "source": [
    "msq1g, msq2g, dens = model.grid_dens('AB', 'BC', 250)\n",
    "plot_density_countours(msq1g, msq2g, dens, 6, (10, 6))\n",
    "show_phase_space(model, 'AB', 'BC', 6, 'blue')"
   ]
  },
  {
   "cell_type": "markdown",
   "metadata": {},
   "source": [
    "## Sampling Dalitz distribution\n",
    "### Neumann's method"
   ]
  },
  {
   "cell_type": "code",
   "execution_count": 9,
   "metadata": {},
   "outputs": [
    {
     "ename": "AttributeError",
     "evalue": "'DalitzModel' object has no attribute 'assess_majorant'",
     "output_type": "error",
     "traceback": [
      "\u001b[0;31m---------------------------------------------------------------------------\u001b[0m",
      "\u001b[0;31mAttributeError\u001b[0m                            Traceback (most recent call last)",
      "\u001b[0;32m<ipython-input-9-a875817a2627>\u001b[0m in \u001b[0;36m<module>\u001b[0;34m()\u001b[0m\n\u001b[0;32m----> 1\u001b[0;31m \u001b[0mmajorant\u001b[0m \u001b[0;34m=\u001b[0m \u001b[0mmodel\u001b[0m\u001b[0;34m.\u001b[0m\u001b[0massess_majorant\u001b[0m\u001b[0;34m(\u001b[0m\u001b[0;34m)\u001b[0m\u001b[0;34m\u001b[0m\u001b[0;34m\u001b[0m\u001b[0m\n\u001b[0m\u001b[1;32m      2\u001b[0m \u001b[0mmajorant\u001b[0m\u001b[0;34m\u001b[0m\u001b[0;34m\u001b[0m\u001b[0m\n",
      "\u001b[0;31mAttributeError\u001b[0m: 'DalitzModel' object has no attribute 'assess_majorant'"
     ]
    }
   ],
   "source": [
    "majorant = model.assess_majorant()\n",
    "majorant"
   ]
  },
  {
   "cell_type": "markdown",
   "metadata": {},
   "source": [
    "$10^6$ events are generated in about 24 seconds with the Neumann's method:"
   ]
  },
  {
   "cell_type": "code",
   "execution_count": null,
   "metadata": {},
   "outputs": [],
   "source": [
    "%%time\n",
    "rtype1, rtype2 = 'AB', 'BC'\n",
    "smpl = model.sample(10**6, rtype1, rtype2, True)\n",
    "mab_sq, mbc_sq = smpl[rtype1], smpl[rtype2]"
   ]
  },
  {
   "cell_type": "code",
   "execution_count": null,
   "metadata": {},
   "outputs": [],
   "source": [
    "smpl"
   ]
  },
  {
   "cell_type": "code",
   "execution_count": null,
   "metadata": {},
   "outputs": [],
   "source": [
    "smpl['AB'].shape"
   ]
  },
  {
   "cell_type": "code",
   "execution_count": null,
   "metadata": {},
   "outputs": [],
   "source": [
    "plot_ddist(mab_sq, mbc_sq, 400, 5)\n",
    "show_phase_space(model, rtype1, rtype2, 5)"
   ]
  },
  {
   "cell_type": "code",
   "execution_count": null,
   "metadata": {},
   "outputs": [],
   "source": [
    "usmpl = model.uniform_sample('AB', 'BC', 10**6, None, True)\n",
    "model.area"
   ]
  },
  {
   "cell_type": "code",
   "execution_count": null,
   "metadata": {},
   "outputs": [],
   "source": [
    "mac_sq = model.third_mass_sq(mab_sq, mbc_sq)\n",
    "plot_ddist(mab_sq, mac_sq, 400, 5)\n",
    "show_phase_space(model, 'AB', 'AC', 5)"
   ]
  },
  {
   "cell_type": "code",
   "execution_count": null,
   "metadata": {},
   "outputs": [],
   "source": [
    "projections(mab_sq, mac_sq, mbc_sq)"
   ]
  },
  {
   "cell_type": "markdown",
   "metadata": {},
   "source": [
    "### Markov chain MC method\n",
    "Now we generate $10^6$ events in about 5 seconds"
   ]
  },
  {
   "cell_type": "code",
   "execution_count": null,
   "metadata": {},
   "outputs": [],
   "source": [
    "%%time\n",
    "rtype1, rtype2 = 'AB', 'BC'\n",
    "mcmc_smpl = model.mcmc_sample(10**7, rtype1, rtype2, 0.1, 32)\n",
    "mab_sq, mbc_sq = mcmc_smpl[rtype1], mcmc_smpl[rtype2]"
   ]
  },
  {
   "cell_type": "code",
   "execution_count": null,
   "metadata": {},
   "outputs": [],
   "source": [
    "projections(mab_sq, mac_sq, mbc_sq)"
   ]
  },
  {
   "cell_type": "markdown",
   "metadata": {},
   "source": [
    "## Animated interference"
   ]
  },
  {
   "cell_type": "code",
   "execution_count": null,
   "metadata": {},
   "outputs": [],
   "source": [
    "from matplotlib import animation"
   ]
  },
  {
   "cell_type": "code",
   "execution_count": null,
   "metadata": {},
   "outputs": [],
   "source": [
    "FIG = plt.figure(num=9, figsize=(9, 6))\n",
    "AXES = plt.axes()\n",
    "show_phase_space(model, 'AB', 'BC', 9, 'blue')\n",
    "plt.grid()\n",
    "plt.title(r'$\\rho(770)$ -- $K^*(892)$ interference')\n",
    "plt.close()"
   ]
  },
  {
   "cell_type": "code",
   "execution_count": null,
   "metadata": {},
   "outputs": [],
   "source": [
    "ims = []\n",
    "for i in range(200):\n",
    "    model.rdict['K*']['ampl'] *= np.exp(1j * np.pi / 100)\n",
    "    msq1g, msq2g, dens = model.grid_dens('AB', 'BC')\n",
    "    levels = np.linspace(0, max(dens.flatten()), 25)\n",
    "    cont = AXES.contourf(msq1g, msq2g, dens, cmap=plt.cm.PuBu, levels=levels)\n",
    "    add_arts = cont.collections\n",
    "    text = ''\n",
    "    te = AXES.text(90, 90, str(text))\n",
    "    an = AXES.annotate(str(text), xy=(0.45, 1.05), xycoords='axes fraction')\n",
    "    ims.append(add_arts + [te,an])\n",
    "    if (i+1) % 10 == 0:\n",
    "        print 'frame {} / {}'.format(i+1, 200)"
   ]
  },
  {
   "cell_type": "code",
   "execution_count": null,
   "metadata": {},
   "outputs": [],
   "source": [
    "ani = animation.ArtistAnimation(FIG, ims, interval=20, blit=True)\n",
    "ani"
   ]
  },
  {
   "cell_type": "code",
   "execution_count": null,
   "metadata": {},
   "outputs": [],
   "source": []
  }
 ],
 "metadata": {
  "kernelspec": {
   "display_name": "Python 2",
   "language": "python",
   "name": "python2"
  },
  "language_info": {
   "codemirror_mode": {
    "name": "ipython",
    "version": 2
   },
   "file_extension": ".py",
   "mimetype": "text/x-python",
   "name": "python",
   "nbconvert_exporter": "python",
   "pygments_lexer": "ipython2",
   "version": "2.7.15+"
  }
 },
 "nbformat": 4,
 "nbformat_minor": 1
}
